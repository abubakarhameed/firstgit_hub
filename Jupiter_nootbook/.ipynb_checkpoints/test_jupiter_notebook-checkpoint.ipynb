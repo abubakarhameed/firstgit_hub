{
 "cells": [
  {
   "cell_type": "markdown",
   "id": "fd420ce3",
   "metadata": {},
   "source": [
    "#python ka chilla\n",
    "##how to use jupiter notebook\n",
    "###our basics of python\n",
    "1-my first program\n",
    "2-my second program"
   ]
  },
  {
   "cell_type": "code",
   "execution_count": 1,
   "id": "306c022d",
   "metadata": {},
   "outputs": [
    {
     "name": "stdout",
     "output_type": "stream",
     "text": [
      "5\n",
      "hello Wprld\n",
      "we are learning python with aammar\n"
     ]
    }
   ],
   "source": [
    "#my first program at jupiter\n",
    "print(2+3)\n",
    "print(\"hello Wprld\")\n",
    "print(\"we are learning python with aammar\")\n",
    "\n"
   ]
  }
 ],
 "metadata": {
  "kernelspec": {
   "display_name": "Python 3 (ipykernel)",
   "language": "python",
   "name": "python3"
  },
  "language_info": {
   "codemirror_mode": {
    "name": "ipython",
    "version": 3
   },
   "file_extension": ".py",
   "mimetype": "text/x-python",
   "name": "python",
   "nbconvert_exporter": "python",
   "pygments_lexer": "ipython3",
   "version": "3.9.13"
  }
 },
 "nbformat": 4,
 "nbformat_minor": 5
}
