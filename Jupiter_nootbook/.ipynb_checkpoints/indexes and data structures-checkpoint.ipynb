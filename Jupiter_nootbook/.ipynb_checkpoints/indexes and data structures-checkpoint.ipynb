{
 "cells": [
  {
   "cell_type": "markdown",
   "id": "ff58b267",
   "metadata": {},
   "source": [
    "Indixes"
   ]
  },
  {
   "cell_type": "code",
   "execution_count": 1,
   "id": "5a7ac9b6",
   "metadata": {},
   "outputs": [
    {
     "data": {
      "text/plain": [
       "'samosa pakora'"
      ]
     },
     "execution_count": 1,
     "metadata": {},
     "output_type": "execute_result"
    }
   ],
   "source": [
    "# make a string\n",
    "a=\"samosa pakora\"\n",
    "a"
   ]
  },
  {
   "cell_type": "code",
   "execution_count": 2,
   "id": "b39a0687",
   "metadata": {},
   "outputs": [
    {
     "data": {
      "text/plain": [
       "13"
      ]
     },
     "execution_count": 2,
     "metadata": {},
     "output_type": "execute_result"
    }
   ],
   "source": [
    "# length of indices\n",
    "len(a)"
   ]
  },
  {
   "cell_type": "code",
   "execution_count": 3,
   "id": "c07593d3",
   "metadata": {},
   "outputs": [
    {
     "data": {
      "text/plain": [
       "'s'"
      ]
     },
     "execution_count": 3,
     "metadata": {},
     "output_type": "execute_result"
    }
   ],
   "source": [
    "a[0]"
   ]
  },
  {
   "cell_type": "code",
   "execution_count": 4,
   "id": "02edda33",
   "metadata": {},
   "outputs": [
    {
     "data": {
      "text/plain": [
       "'a'"
      ]
     },
     "execution_count": 4,
     "metadata": {},
     "output_type": "execute_result"
    }
   ],
   "source": [
    "a[1]"
   ]
  },
  {
   "cell_type": "code",
   "execution_count": 5,
   "id": "23772234",
   "metadata": {},
   "outputs": [
    {
     "data": {
      "text/plain": [
       "'samosa'"
      ]
     },
     "execution_count": 5,
     "metadata": {},
     "output_type": "execute_result"
    }
   ],
   "source": [
    "a[0:6]"
   ]
  },
  {
   "cell_type": "code",
   "execution_count": 6,
   "id": "81852dc7",
   "metadata": {},
   "outputs": [
    {
     "data": {
      "text/plain": [
       "'samosa pakora'"
      ]
     },
     "execution_count": 6,
     "metadata": {},
     "output_type": "execute_result"
    }
   ],
   "source": [
    "# last number is exclusive\n",
    "a[0:13]"
   ]
  },
  {
   "cell_type": "code",
   "execution_count": 7,
   "id": "9a59ecbe",
   "metadata": {},
   "outputs": [
    {
     "data": {
      "text/plain": [
       "'pakora'"
      ]
     },
     "execution_count": 7,
     "metadata": {},
     "output_type": "execute_result"
    }
   ],
   "source": [
    "a[-6:13]"
   ]
  },
  {
   "cell_type": "code",
   "execution_count": 8,
   "id": "121b494f",
   "metadata": {},
   "outputs": [
    {
     "data": {
      "text/plain": [
       "'Biryani'"
      ]
     },
     "execution_count": 8,
     "metadata": {},
     "output_type": "execute_result"
    }
   ],
   "source": [
    "food=\"Biryani\"\n",
    "food"
   ]
  },
  {
   "cell_type": "code",
   "execution_count": 9,
   "id": "ef1d9982",
   "metadata": {},
   "outputs": [
    {
     "data": {
      "text/plain": [
       "7"
      ]
     },
     "execution_count": 9,
     "metadata": {},
     "output_type": "execute_result"
    }
   ],
   "source": [
    "len(food)"
   ]
  },
  {
   "cell_type": "markdown",
   "id": "e6ce4fb3",
   "metadata": {},
   "source": [
    "## string methods"
   ]
  },
  {
   "cell_type": "code",
   "execution_count": 10,
   "id": "416e846f",
   "metadata": {},
   "outputs": [
    {
     "data": {
      "text/plain": [
       "'Biryani'"
      ]
     },
     "execution_count": 10,
     "metadata": {},
     "output_type": "execute_result"
    }
   ],
   "source": [
    "food=\"Biryani\"\n",
    "food"
   ]
  },
  {
   "cell_type": "code",
   "execution_count": 11,
   "id": "3877775c",
   "metadata": {},
   "outputs": [
    {
     "data": {
      "text/plain": [
       "7"
      ]
     },
     "execution_count": 11,
     "metadata": {},
     "output_type": "execute_result"
    }
   ],
   "source": [
    "len(food)"
   ]
  },
  {
   "cell_type": "code",
   "execution_count": 12,
   "id": "d6a8a9db",
   "metadata": {},
   "outputs": [
    {
     "data": {
      "text/plain": [
       "'BIRYANI'"
      ]
     },
     "execution_count": 12,
     "metadata": {},
     "output_type": "execute_result"
    }
   ],
   "source": [
    "# upper case function\n",
    "food.upper()"
   ]
  },
  {
   "cell_type": "code",
   "execution_count": 13,
   "id": "ee0e158e",
   "metadata": {},
   "outputs": [
    {
     "data": {
      "text/plain": [
       "'biryani'"
      ]
     },
     "execution_count": 13,
     "metadata": {},
     "output_type": "execute_result"
    }
   ],
   "source": [
    "# lower case function\n",
    "food.lower()"
   ]
  },
  {
   "cell_type": "code",
   "execution_count": 14,
   "id": "9b05954a",
   "metadata": {},
   "outputs": [
    {
     "data": {
      "text/plain": [
       "'shiryani'"
      ]
     },
     "execution_count": 14,
     "metadata": {},
     "output_type": "execute_result"
    }
   ],
   "source": [
    "# repalce function\n",
    "food.replace(\"B\",\"sh\")"
   ]
  },
  {
   "cell_type": "code",
   "execution_count": 15,
   "id": "6814349d",
   "metadata": {},
   "outputs": [
    {
     "data": {
      "text/plain": [
       "'baba_aammar Dr Aammar aijaz tufail'"
      ]
     },
     "execution_count": 15,
     "metadata": {},
     "output_type": "execute_result"
    }
   ],
   "source": [
    "# counting a specefic function\n",
    "name=\"baba_aammar Dr Aammar aijaz tufail\"\n",
    "name"
   ]
  },
  {
   "cell_type": "code",
   "execution_count": 16,
   "id": "b6ac0b0b",
   "metadata": {},
   "outputs": [
    {
     "data": {
      "text/plain": [
       "1"
      ]
     },
     "execution_count": 16,
     "metadata": {},
     "output_type": "execute_result"
    }
   ],
   "source": [
    "#count fuction\n",
    "name.count(\"A\")"
   ]
  },
  {
   "cell_type": "markdown",
   "id": "59573a5f",
   "metadata": {},
   "source": [
    "### Finding an index number in a string"
   ]
  },
  {
   "cell_type": "code",
   "execution_count": 17,
   "id": "5c3733b9",
   "metadata": {},
   "outputs": [
    {
     "data": {
      "text/plain": [
       "'baba_aammar Dr Aammar aijaz tufail'"
      ]
     },
     "execution_count": 17,
     "metadata": {},
     "output_type": "execute_result"
    }
   ],
   "source": [
    "name=\"baba_aammar Dr Aammar aijaz tufail\"\n",
    "name"
   ]
  },
  {
   "cell_type": "code",
   "execution_count": 18,
   "id": "37408bac",
   "metadata": {},
   "outputs": [
    {
     "data": {
      "text/plain": [
       "28"
      ]
     },
     "execution_count": 18,
     "metadata": {},
     "output_type": "execute_result"
    }
   ],
   "source": [
    "name.find(\"t\")"
   ]
  },
  {
   "cell_type": "markdown",
   "id": "86e29604",
   "metadata": {},
   "source": [
    "### how to split a string"
   ]
  },
  {
   "cell_type": "code",
   "execution_count": 19,
   "id": "85bc6b6e",
   "metadata": {},
   "outputs": [
    {
     "data": {
      "text/plain": [
       "'I love food, biryani, raita, and chawal'"
      ]
     },
     "execution_count": 19,
     "metadata": {},
     "output_type": "execute_result"
    }
   ],
   "source": [
    "food=\"I love food, biryani, raita, and chawal\"\n",
    "food"
   ]
  },
  {
   "cell_type": "code",
   "execution_count": 20,
   "id": "34abc49a",
   "metadata": {},
   "outputs": [
    {
     "data": {
      "text/plain": [
       "['I love food', ' biryani', ' raita', ' and chawal']"
      ]
     },
     "execution_count": 20,
     "metadata": {},
     "output_type": "execute_result"
    }
   ],
   "source": [
    "food.split(\",\")"
   ]
  },
  {
   "cell_type": "markdown",
   "id": "6d8b50eb",
   "metadata": {},
   "source": [
    "### Basic strubture in python\n",
    "# 1-Tuple\n",
    "# 2-list\n",
    "# 3-dictionaries\n",
    "# 4-cell"
   ]
  },
  {
   "cell_type": "markdown",
   "id": "0dca11a6",
   "metadata": {},
   "source": [
    "## 1-Tuples\n",
    "- ordered collection of elements\n",
    "- enclosed in round () braces\n",
    "- Diffrent kinds of element can be stored\n",
    "- once element is stored you can not change them (ummutable)\n",
    "\n"
   ]
  },
  {
   "cell_type": "code",
   "execution_count": 21,
   "id": "63669a32",
   "metadata": {},
   "outputs": [
    {
     "data": {
      "text/plain": [
       "(1, 'python', True, 2.5)"
      ]
     },
     "execution_count": 21,
     "metadata": {},
     "output_type": "execute_result"
    }
   ],
   "source": [
    "tup1 =(1, \"python\",True,2.5)\n",
    "tup1"
   ]
  },
  {
   "cell_type": "code",
   "execution_count": 22,
   "id": "4f151ba6",
   "metadata": {},
   "outputs": [
    {
     "data": {
      "text/plain": [
       "tuple"
      ]
     },
     "execution_count": 22,
     "metadata": {},
     "output_type": "execute_result"
    }
   ],
   "source": [
    "# tyoe of tuple\n",
    "type(tup1)\n"
   ]
  },
  {
   "cell_type": "markdown",
   "id": "b07e3c6a",
   "metadata": {},
   "source": [
    "### indices in tuple"
   ]
  },
  {
   "cell_type": "code",
   "execution_count": 23,
   "id": "eb53999b",
   "metadata": {},
   "outputs": [
    {
     "data": {
      "text/plain": [
       "'python'"
      ]
     },
     "execution_count": 23,
     "metadata": {},
     "output_type": "execute_result"
    }
   ],
   "source": [
    "tup1[1]"
   ]
  },
  {
   "cell_type": "code",
   "execution_count": 24,
   "id": "bd6da5d6",
   "metadata": {},
   "outputs": [
    {
     "data": {
      "text/plain": [
       "True"
      ]
     },
     "execution_count": 24,
     "metadata": {},
     "output_type": "execute_result"
    }
   ],
   "source": [
    "tup1[2]"
   ]
  },
  {
   "cell_type": "code",
   "execution_count": 25,
   "id": "d4c9cb81",
   "metadata": {},
   "outputs": [
    {
     "data": {
      "text/plain": [
       "(1, 'python', True, 2.5)"
      ]
     },
     "execution_count": 25,
     "metadata": {},
     "output_type": "execute_result"
    }
   ],
   "source": [
    "tup1[0:4]"
   ]
  },
  {
   "cell_type": "code",
   "execution_count": 26,
   "id": "3d0d6a20",
   "metadata": {},
   "outputs": [
    {
     "data": {
      "text/plain": [
       "4"
      ]
     },
     "execution_count": 26,
     "metadata": {},
     "output_type": "execute_result"
    }
   ],
   "source": [
    "len(tup1)"
   ]
  },
  {
   "cell_type": "code",
   "execution_count": 27,
   "id": "b00b5ae2",
   "metadata": {},
   "outputs": [
    {
     "data": {
      "text/plain": [
       "(2, 'abubakar', 9.9, 'false')"
      ]
     },
     "execution_count": 27,
     "metadata": {},
     "output_type": "execute_result"
    }
   ],
   "source": [
    "tup2 = (2, \"abubakar\", 9.9, \"false\")\n",
    "tup2"
   ]
  },
  {
   "cell_type": "markdown",
   "id": "139b1e2a",
   "metadata": {},
   "source": [
    "## concatenate function\n"
   ]
  },
  {
   "cell_type": "code",
   "execution_count": 28,
   "id": "af8ba647",
   "metadata": {
    "scrolled": false
   },
   "outputs": [
    {
     "data": {
      "text/plain": [
       "(1, 'python', True, 2.5, 2, 'abubakar', 9.9, 'false')"
      ]
     },
     "execution_count": 28,
     "metadata": {},
     "output_type": "execute_result"
    }
   ],
   "source": [
    "tup1+tup2"
   ]
  },
  {
   "cell_type": "code",
   "execution_count": 29,
   "id": "b924324d",
   "metadata": {},
   "outputs": [
    {
     "data": {
      "text/plain": [
       "(1, 'python', True, 2.5, 1, 'python', True, 2.5, 2, 'abubakar', 9.9, 'false')"
      ]
     },
     "execution_count": 29,
     "metadata": {},
     "output_type": "execute_result"
    }
   ],
   "source": [
    "tup1*2+tup2"
   ]
  },
  {
   "cell_type": "markdown",
   "id": "e235c870",
   "metadata": {},
   "source": [
    "## minimize and maximize function"
   ]
  },
  {
   "cell_type": "code",
   "execution_count": 30,
   "id": "1c106007",
   "metadata": {},
   "outputs": [
    {
     "data": {
      "text/plain": [
       "(20, 40, 20, 203, 50, 68)"
      ]
     },
     "execution_count": 30,
     "metadata": {},
     "output_type": "execute_result"
    }
   ],
   "source": [
    "tup3=(20,40,20,203,50,68)\n",
    "tup3"
   ]
  },
  {
   "cell_type": "code",
   "execution_count": 31,
   "id": "78f097ed",
   "metadata": {},
   "outputs": [
    {
     "data": {
      "text/plain": [
       "20"
      ]
     },
     "execution_count": 31,
     "metadata": {},
     "output_type": "execute_result"
    }
   ],
   "source": [
    "min(tup3)"
   ]
  },
  {
   "cell_type": "code",
   "execution_count": 33,
   "id": "054f43e8",
   "metadata": {},
   "outputs": [
    {
     "data": {
      "text/plain": [
       "203"
      ]
     },
     "execution_count": 33,
     "metadata": {},
     "output_type": "execute_result"
    }
   ],
   "source": [
    "max(tup3)"
   ]
  },
  {
   "cell_type": "code",
   "execution_count": 34,
   "id": "7ad9a0a9",
   "metadata": {
    "scrolled": true
   },
   "outputs": [
    {
     "data": {
      "text/plain": [
       "2"
      ]
     },
     "execution_count": 34,
     "metadata": {},
     "output_type": "execute_result"
    }
   ],
   "source": [
    "tuple=tup3.count(20)\n",
    "tuple"
   ]
  },
  {
   "cell_type": "code",
   "execution_count": 35,
   "id": "041bb234",
   "metadata": {},
   "outputs": [
    {
     "data": {
      "text/plain": [
       "0"
      ]
     },
     "execution_count": 35,
     "metadata": {},
     "output_type": "execute_result"
    }
   ],
   "source": [
    "tuple=tup3.index(20)\n",
    "tuple\n"
   ]
  },
  {
   "cell_type": "markdown",
   "id": "a1e2d8c2",
   "metadata": {},
   "source": [
    "## 2-list\n",
    "- ordered collection of element\n",
    "- enclosed in a [ ]square brackets\n",
    "- mututable you can change the values"
   ]
  },
  {
   "cell_type": "code",
   "execution_count": 36,
   "id": "e1785aad",
   "metadata": {},
   "outputs": [
    {
     "data": {
      "text/plain": [
       "[1, 'python', True, 'abubakar', 'True']"
      ]
     },
     "execution_count": 36,
     "metadata": {},
     "output_type": "execute_result"
    }
   ],
   "source": [
    "list1=[1, \"python\",True,\"abubakar\",\"True\"]\n",
    "list1"
   ]
  },
  {
   "cell_type": "code",
   "execution_count": 37,
   "id": "24b1c789",
   "metadata": {},
   "outputs": [
    {
     "data": {
      "text/plain": [
       "list"
      ]
     },
     "execution_count": 37,
     "metadata": {},
     "output_type": "execute_result"
    }
   ],
   "source": [
    "type(list1)"
   ]
  },
  {
   "cell_type": "code",
   "execution_count": 38,
   "id": "84464e9b",
   "metadata": {},
   "outputs": [
    {
     "data": {
      "text/plain": [
       "5"
      ]
     },
     "execution_count": 38,
     "metadata": {},
     "output_type": "execute_result"
    }
   ],
   "source": [
    "len(list1)"
   ]
  },
  {
   "cell_type": "code",
   "execution_count": 39,
   "id": "2b9c1142",
   "metadata": {},
   "outputs": [
    {
     "data": {
      "text/plain": [
       "True"
      ]
     },
     "execution_count": 39,
     "metadata": {},
     "output_type": "execute_result"
    }
   ],
   "source": [
    "list1[2]"
   ]
  },
  {
   "cell_type": "code",
   "execution_count": 40,
   "id": "be70a2dc",
   "metadata": {},
   "outputs": [
    {
     "data": {
      "text/plain": [
       "[2, 'abubakar', 9.9, 'false']"
      ]
     },
     "execution_count": 40,
     "metadata": {},
     "output_type": "execute_result"
    }
   ],
   "source": [
    "list2=[2, \"abubakar\", 9.9, \"false\"]\n",
    "list2"
   ]
  },
  {
   "cell_type": "code",
   "execution_count": 41,
   "id": "486ae193",
   "metadata": {},
   "outputs": [
    {
     "data": {
      "text/plain": [
       "[1, 'python', True, 'abubakar', 'True', 2, 'abubakar', 9.9, 'false']"
      ]
     },
     "execution_count": 41,
     "metadata": {},
     "output_type": "execute_result"
    }
   ],
   "source": [
    "list1+list2"
   ]
  },
  {
   "cell_type": "code",
   "execution_count": 42,
   "id": "f96365d3",
   "metadata": {},
   "outputs": [
    {
     "data": {
      "text/plain": [
       "[1,\n",
       " 'python',\n",
       " True,\n",
       " 'abubakar',\n",
       " 'True',\n",
       " 1,\n",
       " 'python',\n",
       " True,\n",
       " 'abubakar',\n",
       " 'True',\n",
       " 2,\n",
       " 'abubakar',\n",
       " 9.9,\n",
       " 'false']"
      ]
     },
     "execution_count": 42,
     "metadata": {},
     "output_type": "execute_result"
    }
   ],
   "source": [
    "list1*2+list2"
   ]
  },
  {
   "cell_type": "code",
   "execution_count": 43,
   "id": "b38841ac",
   "metadata": {},
   "outputs": [
    {
     "data": {
      "text/plain": [
       "['True', 'abubakar', True, 'python', 1]"
      ]
     },
     "execution_count": 43,
     "metadata": {},
     "output_type": "execute_result"
    }
   ],
   "source": [
    "list1.reverse()\n",
    "list1"
   ]
  },
  {
   "cell_type": "code",
   "execution_count": 44,
   "id": "e33038f8",
   "metadata": {},
   "outputs": [
    {
     "data": {
      "text/plain": [
       "['True', 'abubakar', True, 'python', 1, 'abubakar, codanics']"
      ]
     },
     "execution_count": 44,
     "metadata": {},
     "output_type": "execute_result"
    }
   ],
   "source": [
    "list1.append(\"abubakar, codanics\")\n",
    "list1"
   ]
  },
  {
   "cell_type": "code",
   "execution_count": 45,
   "id": "6a617785",
   "metadata": {},
   "outputs": [
    {
     "data": {
      "text/plain": [
       "0"
      ]
     },
     "execution_count": 45,
     "metadata": {},
     "output_type": "execute_result"
    }
   ],
   "source": [
    "lists=list1.count(\"T\")\n",
    "lists"
   ]
  },
  {
   "cell_type": "code",
   "execution_count": 46,
   "id": "b0e46c4b",
   "metadata": {},
   "outputs": [
    {
     "data": {
      "text/plain": [
       "[20, 10, 23, 44, 13, 56, 34, 36, 19, 44.0]"
      ]
     },
     "execution_count": 46,
     "metadata": {},
     "output_type": "execute_result"
    }
   ],
   "source": [
    "list3=[20,10,23,44,13,56,34,36,19,44.]\n",
    "list3"
   ]
  },
  {
   "cell_type": "code",
   "execution_count": 47,
   "id": "2fb7022e",
   "metadata": {},
   "outputs": [
    {
     "data": {
      "text/plain": [
       "10"
      ]
     },
     "execution_count": 47,
     "metadata": {},
     "output_type": "execute_result"
    }
   ],
   "source": [
    "len(list3)"
   ]
  },
  {
   "cell_type": "code",
   "execution_count": 48,
   "id": "d22ed722",
   "metadata": {},
   "outputs": [
    {
     "data": {
      "text/plain": [
       "[10, 13, 19, 20, 23, 34, 36, 44, 44.0, 56]"
      ]
     },
     "execution_count": 48,
     "metadata": {},
     "output_type": "execute_result"
    }
   ],
   "source": [
    "list3.sort()\n",
    "list3"
   ]
  },
  {
   "cell_type": "code",
   "execution_count": 49,
   "id": "bcb40bed",
   "metadata": {},
   "outputs": [
    {
     "data": {
      "text/plain": [
       "['True',\n",
       " 'abubakar',\n",
       " True,\n",
       " 'python',\n",
       " 1,\n",
       " 'abubakar, codanics',\n",
       " 2,\n",
       " 'abubakar',\n",
       " 9.9,\n",
       " 'false']"
      ]
     },
     "execution_count": 49,
     "metadata": {},
     "output_type": "execute_result"
    }
   ],
   "source": [
    "lists=list1+list2\n",
    "lists"
   ]
  },
  {
   "cell_type": "markdown",
   "id": "65bdd259",
   "metadata": {},
   "source": [
    "## dictionaries\n",
    "- an unorderd collection of element\n",
    "- key and value\n",
    "- curly braces/brackets {}\n",
    "- muttable/change the values"
   ]
  },
  {
   "cell_type": "code",
   "execution_count": 50,
   "id": "d59ba17e",
   "metadata": {},
   "outputs": [
    {
     "data": {
      "text/plain": [
       "{'samosa': 30, 'pakora': 15, 'raita': 50}"
      ]
     },
     "execution_count": 50,
     "metadata": {},
     "output_type": "execute_result"
    }
   ],
   "source": [
    "# food and their prices\n",
    "d1={\"samosa\":30, \"pakora\":15, \"raita\":50}\n",
    "d1\n",
    "\n"
   ]
  },
  {
   "cell_type": "code",
   "execution_count": 51,
   "id": "8836b551",
   "metadata": {},
   "outputs": [
    {
     "data": {
      "text/plain": [
       "dict"
      ]
     },
     "execution_count": 51,
     "metadata": {},
     "output_type": "execute_result"
    }
   ],
   "source": [
    "type(d1)"
   ]
  },
  {
   "cell_type": "code",
   "execution_count": 52,
   "id": "3ce33924",
   "metadata": {},
   "outputs": [
    {
     "data": {
      "text/plain": [
       "dict_keys(['samosa', 'pakora', 'raita'])"
      ]
     },
     "execution_count": 52,
     "metadata": {},
     "output_type": "execute_result"
    }
   ],
   "source": [
    "# extract data\n",
    "keys1=d1.keys()\n",
    "keys1"
   ]
  },
  {
   "cell_type": "code",
   "execution_count": 53,
   "id": "3d704ccf",
   "metadata": {},
   "outputs": [
    {
     "data": {
      "text/plain": [
       "dict_values([30, 15, 50])"
      ]
     },
     "execution_count": 53,
     "metadata": {},
     "output_type": "execute_result"
    }
   ],
   "source": [
    "values1=d1.values()\n",
    "values1"
   ]
  },
  {
   "cell_type": "code",
   "execution_count": 54,
   "id": "2bf98814",
   "metadata": {},
   "outputs": [
    {
     "data": {
      "text/plain": [
       "{'samosa': 30, 'pakora': 15, 'raita': 50, 'chawal': 12}"
      ]
     },
     "execution_count": 54,
     "metadata": {},
     "output_type": "execute_result"
    }
   ],
   "source": [
    "# adding new element\n",
    "d1[\"chawal\"]=12\n",
    "d1"
   ]
  },
  {
   "cell_type": "code",
   "execution_count": 55,
   "id": "155e353a",
   "metadata": {},
   "outputs": [
    {
     "data": {
      "text/plain": [
       "{'samosa': 30, 'pakora': 15, 'raita': 50, 'chawal': 25}"
      ]
     },
     "execution_count": 55,
     "metadata": {},
     "output_type": "execute_result"
    }
   ],
   "source": [
    "# update the values\n",
    "d1[\"chawal\"]=25\n",
    "d1"
   ]
  },
  {
   "cell_type": "code",
   "execution_count": 56,
   "id": "c07efbfa",
   "metadata": {},
   "outputs": [
    {
     "data": {
      "text/plain": [
       "{'chocolate': 59, 'dates': 50, 'shawaiya': 100}"
      ]
     },
     "execution_count": 56,
     "metadata": {},
     "output_type": "execute_result"
    }
   ],
   "source": [
    "d2={\"chocolate\":59, \"dates\":50, \"shawaiya\":100}\n",
    "d2"
   ]
  },
  {
   "cell_type": "code",
   "execution_count": 57,
   "id": "46c7bc7a",
   "metadata": {},
   "outputs": [
    {
     "data": {
      "text/plain": [
       "{'samosa': 30,\n",
       " 'pakora': 15,\n",
       " 'raita': 50,\n",
       " 'chawal': 25,\n",
       " 'chocolate': 59,\n",
       " 'dates': 50,\n",
       " 'shawaiya': 100}"
      ]
     },
     "execution_count": 57,
     "metadata": {},
     "output_type": "execute_result"
    }
   ],
   "source": [
    "# concatenate\n",
    "d1.update(d2)\n",
    "d1"
   ]
  },
  {
   "cell_type": "markdown",
   "id": "c0a062a9",
   "metadata": {},
   "source": [
    "## set\n",
    "- unordered and unindexed\n",
    "- curly brackets are used []\n",
    "- no duplicates allowed"
   ]
  },
  {
   "cell_type": "code",
   "execution_count": 58,
   "id": "0d3a807d",
   "metadata": {},
   "outputs": [
    {
     "data": {
      "text/plain": [
       "{12, 2.5, 'islamabad'}"
      ]
     },
     "execution_count": 58,
     "metadata": {},
     "output_type": "execute_result"
    }
   ],
   "source": [
    "s1={12,2.5,\"islamabad\",}\n",
    "s1"
   ]
  },
  {
   "cell_type": "code",
   "execution_count": 59,
   "id": "1382364a",
   "metadata": {},
   "outputs": [
    {
     "data": {
      "text/plain": [
       "{12, 2.5, 'abubakar', 'islamabad'}"
      ]
     },
     "execution_count": 59,
     "metadata": {},
     "output_type": "execute_result"
    }
   ],
   "source": [
    "s1.add(\"abubakar\")\n",
    "s1"
   ]
  },
  {
   "cell_type": "code",
   "execution_count": null,
   "id": "04fac22e",
   "metadata": {},
   "outputs": [],
   "source": []
  }
 ],
 "metadata": {
  "kernelspec": {
   "display_name": "Python 3 (ipykernel)",
   "language": "python",
   "name": "python3"
  },
  "language_info": {
   "codemirror_mode": {
    "name": "ipython",
    "version": 3
   },
   "file_extension": ".py",
   "mimetype": "text/x-python",
   "name": "python",
   "nbconvert_exporter": "python",
   "pygments_lexer": "ipython3",
   "version": "3.9.13"
  }
 },
 "nbformat": 4,
 "nbformat_minor": 5
}
