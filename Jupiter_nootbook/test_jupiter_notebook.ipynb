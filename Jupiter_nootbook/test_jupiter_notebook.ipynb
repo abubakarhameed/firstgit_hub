{
 "cells": [
  {
   "cell_type": "markdown",
   "id": "db375768",
   "metadata": {},
   "source": [
    "#python ka chilla\n",
    "##how to use jupiter notebook\n",
    "###our basics of python\n",
    "1-my first program\n",
    "2-my second program"
   ]
  },
  {
   "cell_type": "markdown",
   "id": "c5b66433",
   "metadata": {},
   "source": [
    "01_first_program\n"
   ]
  },
  {
   "cell_type": "code",
   "execution_count": 1,
   "id": "96a99e19",
   "metadata": {},
   "outputs": [
    {
     "name": "stdout",
     "output_type": "stream",
     "text": [
      "5\n",
      "hello Wprld\n",
      "we are learning python with aammar\n"
     ]
    }
   ],
   "source": [
    "#my first program at jupiter\n",
    "print(2+3)\n",
    "print(\"hello Wprld\")\n",
    "print(\"we are learning python with aammar\")\n",
    "\n"
   ]
  },
  {
   "cell_type": "markdown",
   "id": "a2e53fbf",
   "metadata": {},
   "source": [
    "02_operators"
   ]
  },
  {
   "cell_type": "code",
   "execution_count": 2,
   "id": "f13bf503",
   "metadata": {},
   "outputs": [
    {
     "name": "stdout",
     "output_type": "stream",
     "text": [
      "3\n",
      "2\n",
      "3.0\n",
      "6\n",
      "1\n",
      "3\n",
      "9\n",
      "42.5\n"
     ]
    }
   ],
   "source": [
    "print(2+1)\n",
    "print(3-1)\n",
    "print(6/2)\n",
    "print(2*3)\n",
    "print(13%2)\n",
    "print(6//2)\n",
    "print(3**2)\n",
    "print(3**4/2*3/3+6-4)\n"
   ]
  },
  {
   "cell_type": "markdown",
   "id": "ed7367df",
   "metadata": {},
   "source": [
    "PEMDAS\n",
    " paranthesis Exponents Multiply Divide Addition Substraction\n",
    "#left to right sequence for M D & A S"
   ]
  },
  {
   "cell_type": "markdown",
   "id": "8836b1fd",
   "metadata": {},
   "source": [
    "03_strings"
   ]
  },
  {
   "cell_type": "code",
   "execution_count": 3,
   "id": "4ce57df2",
   "metadata": {},
   "outputs": [
    {
     "name": "stdout",
     "output_type": "stream",
     "text": [
      "hello Wprld\n",
      "we are learning python with aammar\n",
      "test for single quotes\n",
      "test fot double quotes\n",
      "test for tripple quotes\n",
      "what's up\n"
     ]
    }
   ],
   "source": [
    "print(\"hello Wprld\")\n",
    "print(\"we are learning python with aammar\")\n",
    "print('test for single quotes')\n",
    "print(\"test fot double quotes\")\n",
    "print('''test for tripple quotes''')\n",
    "print(\"what's up\")"
   ]
  },
  {
   "cell_type": "markdown",
   "id": "135d0631",
   "metadata": {},
   "source": [
    "04_comments"
   ]
  },
  {
   "cell_type": "code",
   "execution_count": 4,
   "id": "f41a7819",
   "metadata": {},
   "outputs": [
    {
     "name": "stdout",
     "output_type": "stream",
     "text": [
      "How are you?\n",
      "we are learning python with Aammar\n",
      "10\n"
     ]
    }
   ],
   "source": [
    "print(\"How are you?\")  #press these to comment out (ctrl+/)\n",
    "print(\"we are learning python with Aammar\")   #print a string\n",
    "print(4+6) #print the operators"
   ]
  },
  {
   "cell_type": "markdown",
   "id": "7a0b7a23",
   "metadata": {},
   "source": [
    "05_variables"
   ]
  },
  {
   "cell_type": "code",
   "execution_count": 5,
   "id": "b16d4b43",
   "metadata": {},
   "outputs": [
    {
     "name": "stdout",
     "output_type": "stream",
     "text": [
      "8\n"
     ]
    }
   ],
   "source": [
    "# x=6\n",
    "# print(x)\n",
    "# y=\"we are learning python with aammar\"\n",
    "# print(y)\n",
    "fruit_backets=(8)\n",
    "# fruit_backets=(\"mangoes\")\n",
    "print(fruit_backets)\n"
   ]
  },
  {
   "cell_type": "markdown",
   "id": "f081f6b0",
   "metadata": {},
   "source": [
    "06_input_variables"
   ]
  },
  {
   "cell_type": "code",
   "execution_count": 6,
   "id": "e919e925",
   "metadata": {},
   "outputs": [
    {
     "name": "stdout",
     "output_type": "stream",
     "text": [
      "what is your name? abubakar\n",
      " How old are you 18\n",
      "abubakar 18 Hello I am still young\n"
     ]
    }
   ],
   "source": [
    "# fruit_baskets=input(\"what is your favourite fruit? \")\n",
    "# print(fruit_basketsa)\n",
    "\n",
    "\n",
    "\n",
    "# name=input(\"what is your favourite fruit? \")\n",
    "# greetings=\"Hello\"\n",
    "\n",
    "# print(greetings,name)\n",
    "\n",
    "\n",
    "\n",
    "name=input(\"what is your name? \")\n",
    "age=input(\" How old are you \")\n",
    "greetings=\"Hello\"\n",
    "\n",
    "print(name,age,greetings,\"I am still young\")"
   ]
  },
  {
   "cell_type": "markdown",
   "id": "b92c6caa",
   "metadata": {},
   "source": [
    "07_conditional_logic"
   ]
  },
  {
   "cell_type": "code",
   "execution_count": 7,
   "id": "5b1c1896",
   "metadata": {},
   "outputs": [
    {
     "name": "stdout",
     "output_type": "stream",
     "text": [
      "how old are you?  18\n",
      "<class 'int'>\n",
      "False\n"
     ]
    }
   ],
   "source": [
    "# logical operator are either true and False yes and no and 0 and 1\n",
    "# equal to                        ==\n",
    "# not equal to                    !=\n",
    "# less than                        <\n",
    "# greater than                     >\n",
    "# less than and equal to          <=\n",
    "# greater than and equal to       >=\n",
    "\n",
    "#is 4 equal to 4\n",
    "# print(4==4)\n",
    "# print(4!=4)\n",
    "# print(4>3)\n",
    "# print(4<3)\n",
    "# print(9<=3)\n",
    "# print(6>=5)\n",
    "\n",
    "# application of logical operators\n",
    "# hammad_age=4\n",
    "# age_at_school=5\n",
    "# print(hammad_age==age_at_school)\n",
    "\n",
    "\n",
    "\n",
    "age_at_school=5\n",
    "hammad_age=input(\"how old are you?  \")\n",
    "hammad_age=int(hammad_age)\n",
    "print(type(hammad_age))\n",
    "print(hammad_age==age_at_school)"
   ]
  },
  {
   "cell_type": "markdown",
   "id": "8b0f992a",
   "metadata": {},
   "source": [
    "08_type_conversion"
   ]
  },
  {
   "cell_type": "code",
   "execution_count": 8,
   "id": "a3fb4f65",
   "metadata": {},
   "outputs": [
    {
     "name": "stdout",
     "output_type": "stream",
     "text": [
      "what is your age?18\n",
      "18 <class 'int'>\n"
     ]
    }
   ],
   "source": [
    "# x= 10\n",
    "# y= 10.2          \n",
    "# z= \"Hello\"       \n",
    "# x=x+y\n",
    "# print(x)\n",
    "\n",
    "\n",
    "age= input(\"what is your age?\")\n",
    "age=int(age)\n",
    "print(age,type(age))"
   ]
  },
  {
   "cell_type": "markdown",
   "id": "34240126",
   "metadata": {},
   "source": [
    "09_if_else_elsy"
   ]
  },
  {
   "cell_type": "code",
   "execution_count": 9,
   "id": "634c9ca9",
   "metadata": {},
   "outputs": [
    {
     "name": "stdout",
     "output_type": "stream",
     "text": [
      "hammad can not go to school\n"
     ]
    }
   ],
   "source": [
    "hammad_age= 4\n",
    "required_age_at_school= 5\n",
    "\n",
    "if hammad_age==required_age_at_school:\n",
    "    print(\"hammad can go to school\")\n",
    "elif hammad_age>required_age_at_school:\n",
    "    print(\"hammad should join higher secondary school\")\n",
    "elif hammad_age <=2:\n",
    "    print(\"you should take care of hammad it is still baby\")\n",
    "else:\n",
    "    print(\"hammad can not go to school\")"
   ]
  },
  {
   "cell_type": "markdown",
   "id": "c2cd0ed5",
   "metadata": {},
   "source": [
    "10_functions"
   ]
  },
  {
   "cell_type": "code",
   "execution_count": 10,
   "id": "436c8b27",
   "metadata": {},
   "outputs": [
    {
     "name": "stdout",
     "output_type": "stream",
     "text": [
      "52\n"
     ]
    }
   ],
   "source": [
    "# print(\"we are learning with aammar\")\n",
    "# print(\"we are learning with aammar\")\n",
    "# print(\"we are learning with aammar\")\n",
    "\n",
    "\n",
    "# # defining a function\n",
    "\n",
    "# def print_codanics():\n",
    "#     print(\"we are learning with aammar\")\n",
    "#     print(\"we are learning with aammar\")\n",
    "#     print(\"we are learning with aammar\")\n",
    "# 2nd\n",
    "\n",
    "# def print_codanics():\n",
    "#     text=\"abubakar\"\n",
    "#     print(text)\n",
    "#     print(text)\n",
    "#     print(text)\n",
    "\n",
    "# # 3rd\n",
    "# def print_codanics(text):\n",
    "#     print(text)\n",
    "#     print(text)\n",
    "\n",
    "# print_codanics(\"abubakar\")\n",
    "\n",
    "# defining a function with if ,else elif\n",
    "\n",
    "# def school_calculator(age, text):\n",
    "#     if age==5:\n",
    "#         print(\"hammad can join the school\")\n",
    "#     elif age>5:\n",
    "#         print(\"hammad should go to higher school\")\n",
    "#     else:\n",
    "#         print(\"hammad is a still a baby\")\n",
    "# school_calculator(5,\"hammad\")\n",
    "\n",
    "# defining future age function\n",
    "\n",
    "def future_age(age):\n",
    "    new_age=age+32\n",
    "    return new_age\n",
    "future_age(20)\n",
    "\n",
    "future_predicted_age= future_age(20)\n",
    "print(future_predicted_age)"
   ]
  },
  {
   "cell_type": "markdown",
   "id": "8aea44ae",
   "metadata": {},
   "source": [
    "11_loops"
   ]
  },
  {
   "cell_type": "code",
   "execution_count": 11,
   "id": "a11d4c92",
   "metadata": {},
   "outputs": [
    {
     "name": "stdout",
     "output_type": "stream",
     "text": [
      "mon\n",
      "tue\n",
      "wed\n",
      "thu\n"
     ]
    }
   ],
   "source": [
    "#while loops\n",
    "#for loops\n",
    "\n",
    "# x=0\n",
    "# while (x<=5):\n",
    "#     print(x)\n",
    "#     x=x+1\n",
    "\n",
    "#for loop\n",
    "\n",
    "# for x in range(3,11):\n",
    "#     print(x)\n",
    "\n",
    "#array\n",
    "days = [\"mon\",\"tue\",\"wed\",\"thu\",\"fri\"]\n",
    "\n",
    "for d in days:\n",
    "    if (d==\"fri\"):continue\n",
    "    print(d)\n"
   ]
  },
  {
   "cell_type": "markdown",
   "id": "d0d18005",
   "metadata": {},
   "source": [
    "12_import_libraries"
   ]
  },
  {
   "cell_type": "code",
   "execution_count": 12,
   "id": "9f50b32b",
   "metadata": {},
   "outputs": [
    {
     "name": "stdout",
     "output_type": "stream",
     "text": [
      "438.25\n"
     ]
    }
   ],
   "source": [
    "# # if you want to print the valut of pi\n",
    "# import math\n",
    "# print(\"the value of pi is\", math.pi)\n",
    "\n",
    "import statistics\n",
    "\n",
    "z=[150,259,888,456]\n",
    "print(statistics.mean(z))"
   ]
  },
  {
   "cell_type": "code",
   "execution_count": 13,
   "id": "9b1012fc",
   "metadata": {},
   "outputs": [
    {
     "ename": "SyntaxError",
     "evalue": "invalid decimal literal (4037738880.py, line 1)",
     "output_type": "error",
     "traceback": [
      "\u001b[1;36m  File \u001b[1;32m\"C:\\Users\\abuba\\AppData\\Local\\Temp\\ipykernel_7596\\4037738880.py\"\u001b[1;36m, line \u001b[1;32m1\u001b[0m\n\u001b[1;33m    13_trouble_shooting\u001b[0m\n\u001b[1;37m      ^\u001b[0m\n\u001b[1;31mSyntaxError\u001b[0m\u001b[1;31m:\u001b[0m invalid decimal literal\n"
     ]
    }
   ],
   "source": [
    "13_trouble_shooting"
   ]
  },
  {
   "cell_type": "code",
   "execution_count": null,
   "id": "6bf93626",
   "metadata": {},
   "outputs": [],
   "source": [
    "# trouble shooting\n",
    "# print(\"we are learning with aammar\")\n",
    "\n",
    "# print(25/0)     #runtime error\n",
    "\n",
    "\n",
    "\n",
    "\n",
    "name= \"Aammar\"\n",
    "print(\"Hello\" ,name)"
   ]
  }
 ],
 "metadata": {
  "kernelspec": {
   "display_name": "Python 3 (ipykernel)",
   "language": "python",
   "name": "python3"
  },
  "language_info": {
   "codemirror_mode": {
    "name": "ipython",
    "version": 3
   },
   "file_extension": ".py",
   "mimetype": "text/x-python",
   "name": "python",
   "nbconvert_exporter": "python",
   "pygments_lexer": "ipython3",
   "version": "3.9.13"
  }
 },
 "nbformat": 4,
 "nbformat_minor": 5
}
